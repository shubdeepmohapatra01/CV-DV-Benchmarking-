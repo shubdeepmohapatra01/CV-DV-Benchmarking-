{
 "cells": [
  {
   "cell_type": "code",
   "execution_count": 1,
   "metadata": {},
   "outputs": [
    {
     "name": "stdout",
     "output_type": "stream",
     "text": [
      "/home/smohapa5\n"
     ]
    }
   ],
   "source": [
    "import os\n",
    "import sys\n",
    "module_path = os.path.abspath(os.path.join(\"../..\"))\n",
    "print(module_path)\n",
    "if module_path not in sys.path:\n",
    "    sys.path.append(module_path)\n",
    "# Import packages that will be used\n",
    "import c2qa\n",
    "import custom_gates\n",
    "import numpy as np\n",
    "import matplotlib.pyplot as plt\n",
    "from qiskit import ClassicalRegister, visualization, AncillaRegister,QuantumRegister\n",
    "from qiskit_aer.noise import NoiseModel, amplitude_damping_error\n",
    "from qiskit.quantum_info import state_fidelity, Statevector\n",
    "from qiskit.quantum_info.operators import Operator\n",
    "from qiskit.quantum_info.operators.predicates import is_unitary_matrix\n",
    "from qiskit import QuantumCircuit, QuantumRegister\n",
    "from qiskit.circuit.library import UnitaryGate\n",
    "from qiskit.circuit.library.standard_gates import HGate\n",
    "from math import pi, ceil\n",
    "import scipy\n",
    "from c2qa.operators import CVOperators\n",
    "from c2qa.qumoderegister import QumodeRegister\n",
    "from qiskit_aer import AerSimulator\n",
    "from qiskit.visualization import plot_histogram\n",
    "from c2qa.parameterized_unitary_gate import ParameterizedUnitaryGate\n",
    "from qutip import *"
   ]
  },
  {
   "cell_type": "code",
   "execution_count": 2,
   "metadata": {},
   "outputs": [],
   "source": [
    "def qproj00():\n",
    "    return basis(2, 0).proj()\n",
    "\n",
    "\n",
    "def qproj11():\n",
    "    return basis(2, 1).proj()\n",
    "\n",
    "\n",
    "def qproj01():\n",
    "    op = np.array([[0, 1], [0, 0]])\n",
    "    return Qobj(op)\n",
    "\n",
    "\n",
    "def qproj10():\n",
    "    op = np.array([[0, 0], [1, 0]])\n",
    "    return Qobj(op)"
   ]
  },
  {
   "cell_type": "code",
   "execution_count": 22,
   "metadata": {},
   "outputs": [],
   "source": [
    "def plot_wigner(state, x_range=5, y_range=5, resolution=200):\n",
    "    \"\"\"\n",
    "    Plots the Wigner function (quasiprobability distribution) of a given QuTiP state.\n",
    "\n",
    "    Parameters:\n",
    "        state (Qobj): A QuTiP quantum state (density matrix or ket).\n",
    "        x_range (float): Range for the x-axis (q quadrature).\n",
    "        y_range (float): Range for the y-axis (p quadrature).\n",
    "        resolution (int): Number of points for discretization.\n",
    "\n",
    "    Returns:\n",
    "        None (Displays the Wigner function plot).\n",
    "    \"\"\"\n",
    "    # Define phase-space grid\n",
    "    x = np.linspace(-x_range, x_range, resolution)\n",
    "    y = np.linspace(-y_range, y_range, resolution)\n",
    "    X, Y = np.meshgrid(x, y)\n",
    "\n",
    "    # Compute the Wigner function\n",
    "    W = wigner(state, x, y)\n",
    "\n",
    "    # Plot the Wigner function\n",
    "    plt.figure(figsize=(6, 5))\n",
    "    plt.contourf(X, Y, W, 100, cmap=\"RdBu_r\")  # Red-Blue colormap\n",
    "    plt.colorbar(label=\"Wigner function\")\n",
    "    plt.xlabel(\"q (position quadrature)\")\n",
    "    plt.ylabel(\"p (momentum quadrature)\")\n",
    "    plt.title(\"Wigner Distribution\")\n",
    "    plt.grid(True)\n",
    "    plt.show()"
   ]
  },
  {
   "cell_type": "markdown",
   "metadata": {},
   "source": [
    "## Elementary Operations"
   ]
  },
  {
   "cell_type": "code",
   "execution_count": 6,
   "metadata": {},
   "outputs": [],
   "source": [
    "def Q_displacement_plus1(cutoff):\n",
    "    return (-1j*momentum(cutoff)).expm()\n",
    "def Q_displacement_minus1(cutoff):\n",
    "    return (1j*momentum(cutoff)).expm()\n",
    "def bosonic_sum(cutoff1,cutoff2):\n",
    "    return (-1j*tensor(position(cutoff1),momentum(cutoff2))).expm()\n",
    "def single_mode_squeeze(cutoff,squeeze_param):\n",
    "    return (1j*squeeze_param*(position(cutoff)*momentum(cutoff) + momentum(cutoff)*position(cutoff))/2).expm()\n",
    "def Q_control_plus1(cutoff):\n",
    "    return tensor(qproj00(),qeye(cutoff)) + tensor(qproj11(),(-1j*momentum(cutoff)).expm())\n",
    "def Q_control_minus1(cutoff):\n",
    "    return tensor(qproj00(),qeye(cutoff)) + tensor(qproj11(),(1j*momentum(cutoff)).expm())\n",
    "def P_displacement_pi(cutoff,sign):\n",
    "    return tensor(qproj00(),qeye(cutoff)) + tensor(qproj11(),(1j*np.pi*sign*position(cutoff)).expm())\n",
    "def rotation_control(cutoff,sign):\n",
    "    return tensor(qproj00(),qeye(cutoff)) + tensor(qproj11(),(1j*np.pi/2*sign*num(cutoff)).expm())\n"
   ]
  },
  {
   "cell_type": "markdown",
   "metadata": {},
   "source": [
    "## Test Elementary Operations"
   ]
  },
  {
   "cell_type": "code",
   "execution_count": 32,
   "metadata": {},
   "outputs": [
    {
     "name": "stdout",
     "output_type": "stream",
     "text": [
      "***Initial State***\n",
      "1.0\n",
      "2.0000000000000018\n",
      "***Final State***\n",
      "1.0000000000000007\n",
      "2.0000000000000018\n"
     ]
    }
   ],
   "source": [
    "N = 50\n",
    "q = position(N)\n",
    "\n",
    "## Q displacement by 1\n",
    "\n",
    "# system1 = basis(N,0)\n",
    "# system1_after = Q_displacement_plus1(N) * system1\n",
    "\n",
    "# print(expect(q, system1))\n",
    "# print(expect(q, system1_after))\n",
    "\n",
    "## bosonic sum\n",
    "\n",
    "# system1 = basis(N,0)\n",
    "# system2 = displace(N,2/np.sqrt(2)) * basis(N,0)\n",
    "# print(\"***Initial State***\")\n",
    "# print(expect(q, system1))\n",
    "# print(expect(q, system2))\n",
    "# sum_test = tensor(system2,system1)\n",
    "# sum_test_after = bosonic_sum(N,N)*sum_test\n",
    "\n",
    "# system1_after = ptrace(sum_test_after, 1)  # Partial trace over subsystem 2\n",
    "# print(\"***Final State***\")\n",
    "# print(expect(q, system1_after))\n",
    "\n",
    "# system2_after = ptrace(sum_test_after, 0)  # Partial trace over subsystem 1\n",
    "# print(expect(q, system2_after))\n",
    "\n",
    "## Single mode squeezing\n",
    "# system1 = basis(N,0)\n",
    "# system1_after = single_mode_squeeze(N,1.0) * system1\n",
    "\n",
    "# plot_wigner(system1_after)\n",
    "\n",
    "## Controlled Q displacement\n",
    "\n",
    "system1 = basis(2,0)\n",
    "system2 = displace(N,2/np.sqrt(2)) * basis(N,0)\n",
    "print(\"***Initial State***\")\n",
    "print(expect(sigmaz(), system1))\n",
    "print(expect(q, system2))\n",
    "sum_test = tensor(system1,system2)\n",
    "sum_test_after = Q_control_minus1(N)*sum_test\n",
    "\n",
    "system1_after = ptrace(sum_test_after, 0)  # Partial trace over subsystem 2\n",
    "print(\"***Final State***\")\n",
    "print(expect(sigmaz(), system1_after))\n",
    "\n",
    "system2_after = ptrace(sum_test_after, 1)  # Partial trace over subsystem 1\n",
    "print(expect(q, system2_after))\n",
    "\n"
   ]
  },
  {
   "cell_type": "code",
   "execution_count": 17,
   "metadata": {},
   "outputs": [
    {
     "name": "stdout",
     "output_type": "stream",
     "text": [
      "Quantum object: dims=[[2, 2], [2, 2]], shape=(4, 4), type='oper', dtype=Dense, isherm=True\n",
      "Qobj data =\n",
      "[[0. 0. 0. 0.]\n",
      " [0. 1. 0. 0.]\n",
      " [0. 0. 0. 0.]\n",
      " [0. 0. 0. 0.]]\n"
     ]
    }
   ],
   "source": [
    "test1 = basis(2,0).proj()\n",
    "test2 = basis(2,1).proj()\n",
    "test3 = tensor(test1,test2)\n",
    "print(test3)"
   ]
  },
  {
   "cell_type": "code",
   "execution_count": null,
   "metadata": {},
   "outputs": [],
   "source": []
  }
 ],
 "metadata": {
  "kernelspec": {
   "display_name": "venv",
   "language": "python",
   "name": "python3"
  },
  "language_info": {
   "codemirror_mode": {
    "name": "ipython",
    "version": 3
   },
   "file_extension": ".py",
   "mimetype": "text/x-python",
   "name": "python",
   "nbconvert_exporter": "python",
   "pygments_lexer": "ipython3",
   "version": "3.11.5"
  }
 },
 "nbformat": 4,
 "nbformat_minor": 2
}
